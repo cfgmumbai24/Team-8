{
  "nbformat": 4,
  "nbformat_minor": 0,
  "metadata": {
    "colab": {
      "provenance": []
    },
    "kernelspec": {
      "name": "python3",
      "display_name": "Python 3"
    },
    "language_info": {
      "name": "python"
    }
  },
  "cells": [
    {
      "cell_type": "code",
      "source": [
        "import pandas as pd\n",
        "from sklearn.feature_extraction.text import TfidfVectorizer\n",
        "from sklearn.metrics.pairwise import linear_kernel"
      ],
      "metadata": {
        "id": "hM6fOI5QiSrC"
      },
      "execution_count": 1,
      "outputs": []
    },
    {
      "cell_type": "code",
      "source": [
        "import pandas as pd\n",
        "from sklearn.feature_extraction.text import TfidfVectorizer\n",
        "from sklearn.metrics.pairwise import linear_kernel\n",
        "df = pd.read_csv('/content/job_videos (1).csv')\n",
        "tfidf = TfidfVectorizer(stop_words='english')\n",
        "df['description'] = df['description'].fillna('')\n",
        "\n",
        "tfidf_matrix = tfidf.fit_transform(df['description'])\n",
        "\n",
        "cosine_sim = linear_kernel(tfidf_matrix, tfidf_matrix)\n",
        "\n",
        "def recommend_jobs(interest, cosine_sim=cosine_sim):\n",
        "    idx = df.index[df['tags'] == interest].tolist()\n",
        "    sim_scores = list(enumerate(cosine_sim[idx][0]))\n",
        "    sim_scores = sorted(sim_scores, key=lambda x: x[1], reverse=True)\n",
        "    sim_scores = sim_scores[1:6]\n",
        "    job_indices = [i[0] for i in sim_scores]\n",
        "    return df['name'].iloc[job_indices]\n",
        "\n",
        "\n",
        "interest = input(\"enter ur interest: \")\n",
        "recommended_jobs = recommend_jobs(interest)\n",
        "print(\"Recommended courses for you:\", interest)\n",
        "print(recommended_jobs)"
      ],
      "metadata": {
        "id": "Go8FftPOiQpq",
        "colab": {
          "base_uri": "https://localhost:8080/"
        },
        "outputId": "ad3f06a7-20f7-4f60-8d8f-4794ac462c4b"
      },
      "execution_count": 20,
      "outputs": [
        {
          "output_type": "stream",
          "name": "stdout",
          "text": [
            "enter ur interest: tourism\n",
            "Recommended courses for you: tourism\n",
            "23    Tourism Marketing\n",
            "28     Tourism Services\n",
            "27     Tourism Business\n",
            "22           Ecotourism\n",
            "29    Adventure Tourism\n",
            "Name: name, dtype: object\n"
          ]
        }
      ]
    },
    {
      "cell_type": "code",
      "source": [],
      "metadata": {
        "colab": {
          "base_uri": "https://localhost:8080/"
        },
        "id": "YPYQ4wJ0ic43",
        "outputId": "b7a9361a-6103-432c-e86b-0c1247554e7a"
      },
      "execution_count": 11,
      "outputs": [
        {
          "output_type": "stream",
          "name": "stdout",
          "text": [
            "enter ur interest: tourism\n",
            "Recommended Jobs for Interest: tourism\n",
            "0            Artisan Promotion Officer\n",
            "4     Agricultural Development Officer\n",
            "7                  Tourism Coordinator\n",
            "15         Tourism Project Coordinator\n",
            "11           Tourism Marketing Manager\n",
            "Name: name, dtype: object\n"
          ]
        }
      ]
    },
    {
      "cell_type": "code",
      "source": [],
      "metadata": {
        "id": "xKh88iIFjHEg"
      },
      "execution_count": 3,
      "outputs": []
    },
    {
      "cell_type": "code",
      "source": [],
      "metadata": {
        "id": "NbFjLJnE8OKv"
      },
      "execution_count": null,
      "outputs": []
    }
  ]
}